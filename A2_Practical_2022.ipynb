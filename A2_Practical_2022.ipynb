{
  "nbformat": 4,
  "nbformat_minor": 0,
  "metadata": {
    "colab": {
      "provenance": [],
      "collapsed_sections": [
        "GYOyf-ZOXy9_",
        "8gj8tzUTX_IX",
        "1J8UsTmofF6Q",
        "DIz9zOAte5Zl"
      ],
      "include_colab_link": true
    },
    "kernelspec": {
      "name": "python3",
      "display_name": "Python 3"
    },
    "language_info": {
      "name": "python"
    }
  },
  "cells": [
    {
      "cell_type": "markdown",
      "metadata": {
        "id": "view-in-github",
        "colab_type": "text"
      },
      "source": [
        "<a href=\"https://colab.research.google.com/github/charlesmudima/SUBG_GroupWebMap/blob/main/A2_Practical_2022.ipynb\" target=\"_parent\"><img src=\"https://colab.research.google.com/assets/colab-badge.svg\" alt=\"Open In Colab\"/></a>"
      ]
    },
    {
      "cell_type": "markdown",
      "metadata": {
        "id": "mUXPH1mpVykS"
      },
      "source": [
        "# author: Update to your name\n",
        "\n",
        "> Indented block\n",
        "\n"
      ]
    },
    {
      "cell_type": "markdown",
      "metadata": {
        "id": "G92wOJXlYjb-"
      },
      "source": [
        "# A2 PRACTICAL TEST / A2 PRAKTIESE TOETS - Section C "
      ]
    },
    {
      "cell_type": "markdown",
      "metadata": {
        "id": "6L8qQ1OIRndJ"
      },
      "source": [
        "# Analyse matric pass rates in Cape Town\n",
        "\n",
        "Complete the analysis, writing all your results to this notebook.\n",
        "Download you notebook (ipynb) to your local drive and upload to Sunlearn.\n"
      ]
    },
    {
      "cell_type": "markdown",
      "metadata": {
        "id": "GYOyf-ZOXy9_"
      },
      "source": [
        "## 1. Preparation [2]"
      ]
    },
    {
      "cell_type": "markdown",
      "metadata": {
        "id": "QNlHyQI-nH3g"
      },
      "source": [
        "**Run the following code to use R and Python scripting in the Colab Notebook**"
      ]
    },
    {
      "cell_type": "code",
      "metadata": {
        "id": "adJFrmITX2Op"
      },
      "source": [
        "%load_ext rpy2.ipython "
      ],
      "execution_count": null,
      "outputs": []
    },
    {
      "cell_type": "markdown",
      "metadata": {
        "id": "C_RbIgbyrBC5"
      },
      "source": [
        "When running R code **always** add **%%R** in the beginning of a new code panel. You do not need to do this when coming to the Python section."
      ]
    },
    {
      "cell_type": "markdown",
      "metadata": {
        "id": "CLwdQ5tkXQ99"
      },
      "source": [
        "**1.1 Update the author in this document.**\n",
        "\n",
        "**1.2 Read in the schools csv file.** "
      ]
    },
    {
      "cell_type": "code",
      "metadata": {
        "id": "OHZQwPCpmiqB"
      },
      "source": [
        "%%R \n",
        "\n",
        "schools.data <- read.csv('https://raw.githubusercontent.com/zmunch/GIT341R/master/A2/data/CT_Schools_A2.csv')"
      ],
      "execution_count": null,
      "outputs": []
    },
    {
      "cell_type": "markdown",
      "metadata": {
        "id": "ao0jGshjXllb"
      },
      "source": [
        "**1.3 Perform basic validation.**\n",
        "\n",
        "There should be 265 records in the csv file"
      ]
    },
    {
      "cell_type": "code",
      "metadata": {
        "id": "xtSpS0zGgnHg"
      },
      "source": [
        "%%R"
      ],
      "execution_count": null,
      "outputs": []
    },
    {
      "cell_type": "markdown",
      "metadata": {
        "id": "8gj8tzUTX_IX"
      },
      "source": [
        "## 2. Histogram [3]"
      ]
    },
    {
      "cell_type": "markdown",
      "metadata": {
        "id": "Pmk47BLqcyA0"
      },
      "source": [
        "2.1 Draw a histogram of the PASSRATE variable with rug plot, density curve, normal curve and legend.\n",
        "\n",
        "2.2 Use light grey as fill and red as border for the histogram.\n",
        "\n",
        "2.3 Provide a title and appropriate axis-labels.\n"
      ]
    },
    {
      "cell_type": "code",
      "metadata": {
        "id": "7xuXUWWhdHEV"
      },
      "source": [
        "# Histogram\n",
        "%%R"
      ],
      "execution_count": null,
      "outputs": []
    },
    {
      "cell_type": "markdown",
      "metadata": {
        "id": "1J8UsTmofF6Q"
      },
      "source": [
        "## 3. Interpret the histogram [2]\n"
      ]
    },
    {
      "cell_type": "markdown",
      "metadata": {
        "id": "Fa8kYBaDgazL"
      },
      "source": [
        "Write your answer here"
      ]
    },
    {
      "cell_type": "markdown",
      "metadata": {
        "id": "DIz9zOAte5Zl"
      },
      "source": [
        "## 4. Map [6]\n",
        "\n"
      ]
    },
    {
      "cell_type": "markdown",
      "metadata": {
        "id": "1RypslwOhogA"
      },
      "source": [
        "4.1 Draw the map of the PASSRATE of schools against the backdrop of a Google Map.\n",
        "\n",
        "4.2 Cut the PASSRATE variable into quartiles and define a palette.\n",
        "\n",
        "4.3 Provide a legend and title.\n"
      ]
    },
    {
      "cell_type": "code",
      "metadata": {
        "id": "gKQdbb6XaHye"
      },
      "source": [
        "%%R\n",
        "\n",
        "if(!(\"RgoogleMaps\" %in% installed.packages()[,1]))\n",
        "  install.packages(c(\"RgoogleMaps\"), dependencies = TRUE)"
      ],
      "execution_count": null,
      "outputs": []
    },
    {
      "cell_type": "code",
      "metadata": {
        "id": "7ZCOJdA1iPXs"
      },
      "source": [
        "# map\n",
        "%%R"
      ],
      "execution_count": null,
      "outputs": []
    },
    {
      "cell_type": "markdown",
      "metadata": {
        "id": "BGvcU2jjiWP9"
      },
      "source": [
        "## 5. Update the map [4]\n",
        " "
      ]
    },
    {
      "cell_type": "markdown",
      "metadata": {
        "id": "bB6fmceviFj1"
      },
      "source": [
        "5.1 Redraw the map, using the field Unemployed to size the symbols.\n",
        "\n",
        "5.2 Add a legend to show the unemployment.\n"
      ]
    },
    {
      "cell_type": "code",
      "metadata": {
        "id": "7vmaAOWyiinR"
      },
      "source": [
        "# redraw Map - 2 legends\n",
        "%%R"
      ],
      "execution_count": null,
      "outputs": []
    },
    {
      "cell_type": "markdown",
      "metadata": {
        "id": "Mhq2pFMVqMCo"
      },
      "source": [
        "#Python scripting - No need to add %%R to beginning of code panel!"
      ]
    },
    {
      "cell_type": "markdown",
      "metadata": {
        "id": "2zRKjZHFFPDN"
      },
      "source": [
        "##6. Python [8]"
      ]
    },
    {
      "cell_type": "markdown",
      "metadata": {
        "id": "2u7ixz8yFVOt"
      },
      "source": [
        "6.1 Get the atm bank data from the url.\n",
        "\n",
        "6.2 Print the first two lines."
      ]
    },
    {
      "cell_type": "code",
      "metadata": {
        "id": "LO5pZDCLIxb1"
      },
      "source": [
        "!wget -cq https://raw.githubusercontent.com/20978987/karen/main/amenity_atm_bank.csv\n",
        "\n",
        "#first two lines"
      ],
      "execution_count": null,
      "outputs": []
    },
    {
      "cell_type": "markdown",
      "metadata": {
        "id": "luv8ywDWgg7o"
      },
      "source": [
        "6.3 Calculate and print how many atm's Capitec bank has."
      ]
    },
    {
      "cell_type": "code",
      "metadata": {
        "id": "yyerHVxellN9"
      },
      "source": [
        "#code"
      ],
      "execution_count": null,
      "outputs": []
    },
    {
      "cell_type": "markdown",
      "metadata": {
        "id": "RCWmCG_UgxF4"
      },
      "source": [
        "6.4 Get the schools data from the url below and calculate how many times each type of school is mentioned in the table. Write your answer in the format of 'Primary: 30'."
      ]
    },
    {
      "cell_type": "code",
      "metadata": {
        "id": "2RuLoYbZaC78"
      },
      "source": [
        "!wget -cq https://raw.githubusercontent.com/20978987/karen/main/amenity_school.csv\n",
        "\n",
        "#code"
      ],
      "execution_count": null,
      "outputs": []
    },
    {
      "cell_type": "markdown",
      "metadata": {
        "id": "mGca3P6agc8r"
      },
      "source": [
        "##7. ArcPy in ArcGIS [5]"
      ]
    },
    {
      "cell_type": "markdown",
      "metadata": {
        "id": "096X-ENHlFiK"
      },
      "source": [
        "7.1 Calculate the total area (in square meters) of the vegetation layer clipped to the Theewaterskloof dam that has a buffer of 1 km around it."
      ]
    },
    {
      "cell_type": "code",
      "metadata": {
        "id": "_vfU8HC5odup"
      },
      "source": [
        "#paste your code and your ouputs from the Python window in ArcGIS here"
      ],
      "execution_count": null,
      "outputs": []
    },
    {
      "cell_type": "markdown",
      "metadata": {
        "id": "koBxJjnPo9u5"
      },
      "source": [
        "7.2 What is the total area (in square meters) of the vegetation around the Theewaterskloof dam (i.e., excluding the dam)?"
      ]
    },
    {
      "cell_type": "code",
      "metadata": {
        "id": "-SWoRt_WpMUI"
      },
      "source": [
        "#paste your code and your ouputs from the Python window in ArcGIS here"
      ],
      "execution_count": null,
      "outputs": []
    },
    {
      "cell_type": "markdown",
      "metadata": {
        "id": "Sd3TJDr-VmgP"
      },
      "source": [
        "\n",
        "# The end"
      ]
    }
  ]
}